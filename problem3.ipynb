{
 "cells": [
  {
   "cell_type": "markdown",
   "metadata": {},
   "source": [
    "# Problem 3"
   ]
  },
  {
   "cell_type": "code",
   "execution_count": 4,
   "metadata": {},
   "outputs": [],
   "source": [
    "import pandas as pd\n",
    "import numpy as np\n",
    "from sklearn.metrics import mean_squared_error"
   ]
  },
  {
   "cell_type": "code",
   "execution_count": null,
   "metadata": {},
   "outputs": [
    {
     "name": "stdout",
     "output_type": "stream",
     "text": [
      "Iter 1/30 | RMSE: 2.0951\n",
      "Iter 2/30 | RMSE: 1.9974\n",
      "Iter 3/30 | RMSE: 1.9761\n",
      "Iter 4/30 | RMSE: 1.9719\n",
      "Iter 5/30 | RMSE: 1.9710\n",
      "Iter 6/30 | RMSE: 1.9708\n",
      "Iter 7/30 | RMSE: 1.9706\n",
      "Iter 8/30 | RMSE: 1.9703\n",
      "Iter 9/30 | RMSE: 1.9699\n",
      "Iter 10/30 | RMSE: 1.9695\n",
      "Iter 11/30 | RMSE: 1.9688\n",
      "Iter 12/30 | RMSE: 1.9680\n",
      "Iter 13/30 | RMSE: 1.9672\n",
      "Iter 14/30 | RMSE: 1.9663\n",
      "Iter 15/30 | RMSE: 1.9656\n",
      "Iter 16/30 | RMSE: 1.9649\n",
      "Iter 17/30 | RMSE: 1.9644\n",
      "Iter 18/30 | RMSE: 1.9640\n",
      "Iter 19/30 | RMSE: 1.9638\n",
      "Iter 20/30 | RMSE: 1.9636\n",
      "Iter 21/30 | RMSE: 1.9634\n",
      "Iter 22/30 | RMSE: 1.9634\n",
      "Iter 23/30 | RMSE: 1.9633\n",
      "Iter 24/30 | RMSE: 1.9633\n",
      "Iter 25/30 | RMSE: 1.9632\n",
      "Iter 26/30 | RMSE: 1.9632\n",
      "Iter 27/30 | RMSE: 1.9632\n",
      "Iter 28/30 | RMSE: 1.9632\n",
      "Iter 29/30 | RMSE: 1.9632\n",
      "Iter 30/30 | RMSE: 1.9632\n"
     ]
    }
   ],
   "source": [
    "\n",
    "# read in data\n",
    "train = np.loadtxt(\"ratings-train.csv\", delimiter=',', skiprows=1).astype(np.int64)\n",
    "test = np.loadtxt(\"ratings-test.csv\", delimiter=',', skiprows=1).astype(np.int64)\n",
    "\n",
    "m_train, n_train = np.shape(train)\n",
    "m_test, n_test = np.shape(test)\n",
    "\n",
    "\n",
    "# create list of all unique movie ids\n",
    "train_movie_ids = set(train[:,1]) # set() eliminates duplicates\n",
    "test_movie_ids = set(test[:,1])\n",
    "all_movie_ids = list(train_movie_ids.union(test_movie_ids))\n",
    "\n"
   ]
  }
 ],
 "metadata": {
  "kernelspec": {
   "display_name": "base",
   "language": "python",
   "name": "python3"
  },
  "language_info": {
   "codemirror_mode": {
    "name": "ipython",
    "version": 3
   },
   "file_extension": ".py",
   "mimetype": "text/x-python",
   "name": "python",
   "nbconvert_exporter": "python",
   "pygments_lexer": "ipython3",
   "version": "3.12.2"
  }
 },
 "nbformat": 4,
 "nbformat_minor": 2
}
