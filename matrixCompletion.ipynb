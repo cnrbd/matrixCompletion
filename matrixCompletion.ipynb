{
 "cells": [
  {
   "cell_type": "markdown",
   "metadata": {},
   "source": [
    "# Matrix completion"
   ]
  },
  {
   "cell_type": "code",
   "execution_count": 5,
   "metadata": {},
   "outputs": [],
   "source": [
    "import pandas as pd\n",
    "import numpy as np\n",
    "from sklearn.metrics import mean_squared_error"
   ]
  },
  {
   "cell_type": "code",
   "execution_count": null,
   "metadata": {},
   "outputs": [],
   "source": [
    "\n",
    "# read in data\n",
    "train = np.loadtxt(\"ratings-train.csv\", delimiter=',', skiprows=1).astype(np.int64)\n",
    "test = np.loadtxt(\"ratings-test.csv\", delimiter=',', skiprows=1).astype(np.int64)\n",
    "\n",
    "m_train, n_train = np.shape(train)\n",
    "m_test, n_test = np.shape(test)\n",
    "\n",
    "\n",
    "# create list of all unique movie ids\n",
    "train_movie_ids = set(train[:,1]) # set() eliminates duplicates\n",
    "test_movie_ids = set(test[:,1])\n",
    "all_movie_ids = list(train_movie_ids.union(test_movie_ids))\n",
    "\n",
    "num_users = len(set(train[:,0]).union(set(test[:,0]))) # counts number of unique user IDs\n",
    "num_movies = len(all_movie_ids)\n",
    "\n",
    "\n",
    "#create unique movie_ids\n",
    "new_id = {movie_id : all_movie_ids.index(movie_id) for movie_id in all_movie_ids}\n",
    "\n",
    "# create movie rating matrix, fill with training data\n",
    "ratings = np.zeros((num_users, num_movies))\n",
    "for row in train[:5]:\n",
    "    user_id = row[0] - 1\n",
    "    movie_id = new_id[row[1]]\n",
    "    ratings[user_id, movie_id] = row[2] #inserts zero if person has not rated\n",
    "\n",
    "features = 10\n",
    "max_iters = 30\n",
    "regularization = 100\n",
    "\n",
    "#create (lamda)(I) matrix\n",
    "lam = regularization*np.eye(features)\n",
    "\n"
   ]
  }
 ],
 "metadata": {
  "kernelspec": {
   "display_name": "base",
   "language": "python",
   "name": "python3"
  },
  "language_info": {
   "codemirror_mode": {
    "name": "ipython",
    "version": 3
   },
   "file_extension": ".py",
   "mimetype": "text/x-python",
   "name": "python",
   "nbconvert_exporter": "python",
   "pygments_lexer": "ipython3",
   "version": "3.12.2"
  }
 },
 "nbformat": 4,
 "nbformat_minor": 2
}
